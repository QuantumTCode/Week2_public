{
  "nbformat": 4,
  "nbformat_minor": 0,
  "metadata": {
    "colab": {
      "name": "07_ANNs_with_TFKeras.ipynb",
      "version": "0.3.2",
      "provenance": [],
      "collapsed_sections": []
    },
    "kernelspec": {
      "name": "python3",
      "display_name": "Python 3"
    },
    "accelerator": "GPU"
  },
  "cells": [
    {
      "metadata": {
        "id": "9XZEvoDUdSKh",
        "colab_type": "text"
      },
      "cell_type": "markdown",
      "source": [
        "# Artificial Neural Networks with TensorFlow.Keras\n",
        "\n",
        "In this notebook we will see how to use TensorFlow to train ANNs and avoid needing to extract features like we did in the previous notebook.\n",
        "\n",
        "Let's grab the same digit data we used before!"
      ]
    },
    {
      "metadata": {
        "id": "3MIrMPcldSQZ",
        "colab_type": "code",
        "colab": {
          "base_uri": "https://localhost:8080/",
          "height": 34
        },
        "outputId": "a84b878f-786c-4e18-8549-f7f8bd7701e1"
      },
      "cell_type": "code",
      "source": [
        "! git clone https://github.com/Jakobovski/free-spoken-digit-dataset.git"
      ],
      "execution_count": 1,
      "outputs": [
        {
          "output_type": "stream",
          "text": [
            "fatal: destination path 'free-spoken-digit-dataset' already exists and is not an empty directory.\r\n"
          ],
          "name": "stdout"
        }
      ]
    },
    {
      "metadata": {
        "id": "qvpcS7sshZzF",
        "colab_type": "code",
        "colab": {}
      },
      "cell_type": "code",
      "source": [
        "import os\n",
        "os.chdir('free-spoken-digit-dataset/recordings')"
      ],
      "execution_count": 0,
      "outputs": []
    },
    {
      "metadata": {
        "id": "6m3pXT_QW5Il",
        "colab_type": "code",
        "colab": {
          "base_uri": "https://localhost:8080/",
          "height": 221
        },
        "outputId": "58ff528d-7f5c-456c-fb69-b82a35b2a1f3"
      },
      "cell_type": "code",
      "source": [
        "import glob, os\n",
        "\n",
        "wavfiles = list()\n",
        "for file in glob.glob(\"*.wav\"):\n",
        "    wavfiles.append(file)\n",
        "\n",
        "num_points = len(wavfiles)\n",
        "\n",
        "print('{} data points\\n'.format(num_points))\n",
        "\n",
        "# list the first few files\n",
        "wavfiles[:10]\n",
        "\n"
      ],
      "execution_count": 3,
      "outputs": [
        {
          "output_type": "stream",
          "text": [
            "1500 data points\n",
            "\n"
          ],
          "name": "stdout"
        },
        {
          "output_type": "execute_result",
          "data": {
            "text/plain": [
              "['0_theo_26.wav',\n",
              " '1_jackson_38.wav',\n",
              " '2_theo_23.wav',\n",
              " '8_nicolas_1.wav',\n",
              " '1_nicolas_25.wav',\n",
              " '3_theo_47.wav',\n",
              " '8_jackson_30.wav',\n",
              " '6_nicolas_28.wav',\n",
              " '0_theo_3.wav',\n",
              " '2_theo_31.wav']"
            ]
          },
          "metadata": {
            "tags": []
          },
          "execution_count": 3
        }
      ]
    },
    {
      "metadata": {
        "id": "dY2O4r5bW-j7",
        "colab_type": "code",
        "colab": {}
      },
      "cell_type": "code",
      "source": [
        "\n",
        "import numpy as np\n",
        "import scipy.io.wavfile\n",
        "from IPython.display import Audio\n",
        "import matplotlib.pyplot as plt\n",
        "import matplotlib\n",
        "import tensorflow as tf\n",
        "from sklearn import metrics\n",
        "import pandas as pd\n",
        "\n",
        "%matplotlib inline\n",
        "matplotlib.rcParams.update({'font.size': 16,'figure.figsize':(10,6)})\n"
      ],
      "execution_count": 0,
      "outputs": []
    },
    {
      "metadata": {
        "id": "pbB7aYMZ2gMs",
        "colab_type": "text"
      },
      "cell_type": "markdown",
      "source": [
        "## Load the data"
      ]
    },
    {
      "metadata": {
        "id": "ADKsZNPW4L8J",
        "colab_type": "code",
        "colab": {}
      },
      "cell_type": "code",
      "source": [
        "import re\n",
        "\n",
        "re_digit = re.compile('\\d+_')\n",
        "re_speaker = re.compile('_[a-z]+_')\n",
        "re_trial = re.compile('_\\d+.')\n",
        "\n",
        "X_data = np.ndarray(shape=(num_points,),dtype=object)\n",
        "y_labels = list()\n",
        "\n",
        "label='digit'"
      ],
      "execution_count": 0,
      "outputs": []
    },
    {
      "metadata": {
        "id": "9qcJGxFJ1fZC",
        "colab_type": "code",
        "colab": {
          "base_uri": "https://localhost:8080/",
          "height": 51
        },
        "outputId": "fa33de2f-5e78-4ae3-abc4-9061c6e261bd"
      },
      "cell_type": "code",
      "source": [
        "ix = 0\n",
        "for sample_file in wavfiles:\n",
        "  try:\n",
        "    \n",
        "    digit = int(re.match( re_digit, sample_file)[0][:-1])\n",
        "    speaker = re.search( re_speaker, sample_file)[0][1:-1]\n",
        "\n",
        "    # read the file\n",
        "    (sample_rate, signal) = scipy.io.wavfile.read(sample_file)\n",
        "    \n",
        "    # some files have two channels... just take the first one\n",
        "    if len(signal.shape) == 2:\n",
        "      signal = signal[:,0]\n",
        "      \n",
        "    \n",
        "    X_data[ix,] = np.array(signal)\n",
        "    \n",
        "    ix+=1\n",
        "    \n",
        "    if label == 'speaker':\n",
        "      y_labels.append(speaker)\n",
        "      \n",
        "    elif label == 'digit':\n",
        "      y_labels.append(digit)\n",
        "      \n",
        "    else:\n",
        "      print(\"I don't know what you want to predict...\")\n",
        "      break\n",
        "      \n",
        "    \n",
        "  except Exception as e:\n",
        "    \n",
        "    # something went wrong!  =(\n",
        "    \n",
        "    print(sample_file)\n",
        "    print(e)\n",
        "    print(X_data.shape)\n",
        "    print(signal.shape)\n",
        "    \n",
        "    break\n"
      ],
      "execution_count": 6,
      "outputs": [
        {
          "output_type": "stream",
          "text": [
            "/usr/local/lib/python3.6/dist-packages/scipy/io/wavfile.py:273: WavFileWarning: Chunk (non-data) not understood, skipping it.\n",
            "  WavFileWarning)\n"
          ],
          "name": "stderr"
        }
      ]
    },
    {
      "metadata": {
        "id": "bjprxl4__Mb8",
        "colab_type": "text"
      },
      "cell_type": "markdown",
      "source": [
        "## Normalize the inputs\n",
        "Each .wav file is a different duration.  If we want to use the raw input as the signals, this will make our neural net cranky.  Let's artifically pad or truncate our input vectors so they're all the same length.  (Warning: we may lose data!)"
      ]
    },
    {
      "metadata": {
        "id": "rXTpE6du1fgv",
        "colab_type": "code",
        "colab": {
          "base_uri": "https://localhost:8080/",
          "height": 479
        },
        "outputId": "a28dff51-7d93-4da5-bee1-3d0c88ca9c05"
      },
      "cell_type": "code",
      "source": [
        "# Remove the mean from the data\n",
        "# For each data point:\n",
        "#   1) Remove the mean\n",
        "#   2) Make the length = 2000\n",
        "\n",
        "\n",
        "plt.subplot(2,1,1)\n",
        "plt.plot(X_data[2])\n",
        "\n",
        "for i in range(len(X_data)):\n",
        "  mean = np.mean(X_data[i])\n",
        "  X_data[i] = np.delete(X_data[i], np.mean(X_data[i]))\n",
        "  if len(X_data[i]) < 2000:\n",
        "    X_data[i] = np.append(X_data[i], mean*np.ones(2000 - len(X_data[i])))\n",
        "  elif len(X_data[i]) > 2000:\n",
        "    X_data[i] = X_data[i][:2000]\n",
        "    \n",
        "plt.subplot(2,1,2)\n",
        "plt.plot(X_data[2])"
      ],
      "execution_count": 7,
      "outputs": [
        {
          "output_type": "stream",
          "text": [
            "/usr/local/lib/python3.6/dist-packages/ipykernel_launcher.py:8: DeprecationWarning: using a non-integer array as obj in delete will result in an error in the future\n",
            "  \n",
            "/usr/local/lib/python3.6/dist-packages/ipykernel_launcher.py:8: FutureWarning: in the future negative indices will not be ignored by `numpy.delete`.\n",
            "  \n"
          ],
          "name": "stderr"
        },
        {
          "output_type": "execute_result",
          "data": {
            "text/plain": [
              "[<matplotlib.lines.Line2D at 0x7f5d9269a4e0>]"
            ]
          },
          "metadata": {
            "tags": []
          },
          "execution_count": 7
        },
        {
          "output_type": "display_data",
          "data": {
            "image/png": "[encoded data removed]",
            "text/plain": [
              "<matplotlib.figure.Figure at 0x7f5d9273ea90>"
            ]
          },
          "metadata": {
            "tags": []
          }
        }
      ]
    },
    {
      "metadata": {
        "id": "BwVVx3DaLybg",
        "colab_type": "code",
        "colab": {}
      },
      "cell_type": "code",
      "source": [
        "# turn y_labels into categories (0,1,2)\n",
        "\n",
        "labels = np.array(list(set(y_labels)))\n",
        "\n",
        "for yix in range(len(y_labels)):\n",
        "  y_labels[yix]=np.where(labels==y_labels[yix])[0][0]"
      ],
      "execution_count": 0,
      "outputs": []
    },
    {
      "metadata": {
        "id": "XZkW3thkFtPs",
        "colab_type": "text"
      },
      "cell_type": "markdown",
      "source": [
        "## Split data into test/train split"
      ]
    },
    {
      "metadata": {
        "id": "mANSzEFx1fo7",
        "colab_type": "code",
        "colab": {}
      },
      "cell_type": "code",
      "source": [
        "from sklearn.model_selection import train_test_split\n",
        "\n",
        "# split X and y into training and testing sets\n",
        "X_train, X_test, y_train, y_test = train_test_split(X_data, np.array(y_labels), test_size=0.25)"
      ],
      "execution_count": 0,
      "outputs": []
    },
    {
      "metadata": {
        "id": "1oGFU7vm1fmr",
        "colab_type": "code",
        "colab": {
          "base_uri": "https://localhost:8080/",
          "height": 51
        },
        "outputId": "bdf78e48-1cd0-446f-a124-d814f13f9491"
      },
      "cell_type": "code",
      "source": [
        "print(X_train.shape)\n",
        "print(y_train.shape)"
      ],
      "execution_count": 10,
      "outputs": [
        {
          "output_type": "stream",
          "text": [
            "(1125,)\n",
            "(1125,)\n"
          ],
          "name": "stdout"
        }
      ]
    },
    {
      "metadata": {
        "id": "oNZex1ySHzGb",
        "colab_type": "text"
      },
      "cell_type": "markdown",
      "source": [
        "## Reformat the labels\n",
        "\n",
        "Next, we want to convert the labels from an integer format (e.g., \"2\"), to a [one hot encoding](https://en.wikipedia.org/wiki/One-hot) (e.g., \"0, 0, 1, 0, 0, 0, 0, 0, 0, 0\"). To do so, we'll use the `tf.keras.utils.to_categorical` [function](https://www.tensorflow.org/api_docs/python/tf/keras/utils/to_categorical) function."
      ]
    },
    {
      "metadata": {
        "id": "WAVsA9rk1fkd",
        "colab_type": "code",
        "colab": {}
      },
      "cell_type": "code",
      "source": [
        "NUM_DIGITS = 10\n",
        "\n",
        "y_labels = tf.keras.utils.to_categorical(y_labels)"
      ],
      "execution_count": 0,
      "outputs": []
    },
    {
      "metadata": {
        "id": "DiaSczTAb042",
        "colab_type": "code",
        "colab": {}
      },
      "cell_type": "code",
      "source": [
        "# The X data is in a variable-length array, which will make TensorFlow cranky... we're going to hack something together to fix that\n",
        "\n",
        "\n",
        "X_train_df = pd.DataFrame()\n",
        "for xx in X_train:\n",
        "  X_train_df=X_train_df.append(pd.Series(xx),ignore_index=True)\n",
        "\n",
        "\n",
        "X_test_df = pd.DataFrame()\n",
        "for xx in X_test:\n",
        "  X_test_df=X_test_df.append(pd.Series(xx),ignore_index=True)"
      ],
      "execution_count": 0,
      "outputs": []
    },
    {
      "metadata": {
        "id": "Dr9q1Sd0NdIO",
        "colab_type": "text"
      },
      "cell_type": "markdown",
      "source": [
        "## Build the model\n",
        "\n",
        "Now, we'll create our neural network using the [Keras Sequential API](https://www.tensorflow.org/api_docs/python/tf/keras/Sequential). \n",
        "* Architecture wise, we'll single layer network. \n",
        "* The hidden layer will have 512 units using the [ReLU](https://www.tensorflow.org/api_docs/python/tf/keras/activations/relu) activation function. \n",
        "* The output layer will have 10 units and use [softmax](https://www.tensorflow.org/api_docs/python/tf/keras/activations/softmax) function. \n",
        "* Note: you will need to specify the input shape on the first layer. If you add subsequent layers, this is not necessary. \n",
        "* We will use the [categorical crossentropy](https://www.tensorflow.org/api_docs/python/tf/keras/losses/categorical_crossentropy) loss function, and the [RMSProp](https://www.tensorflow.org/api_docs/python/tf/keras/optimizers/RMSprop) optimizer."
      ]
    },
    {
      "metadata": {
        "id": "S9nggvb4HsYi",
        "colab_type": "code",
        "colab": {
          "base_uri": "https://localhost:8080/",
          "height": 2312
        },
        "outputId": "e81cb0b7-473d-49d1-af10-82fdd1934c5c"
      },
      "cell_type": "code",
      "source": [
        "# Build a fully-connected ANN with one hidden layer\n",
        "\n",
        "model = tf.keras.Sequential()\n",
        "#model.add(## YOUR CODE HERE)   # hidden layer with 512 units and relu activation\n",
        "#model.add(## YOUR CODE HERE)   # output layer with 10 units and softmax activation\n",
        "    \n",
        "model.add(tf.keras.layers.Dense(512,activation=tf.nn.relu, input_shape=X_train[0].shape))\n",
        "model.add(tf.keras.layers.Dense(512,activation=tf.nn.relu, input_shape=X_train[0].shape))\n",
        "model.add(tf.keras.layers.Dense(512,activation=tf.nn.relu, input_shape=X_train[0].shape))\n",
        "model.add(tf.keras.layers.Dense(512,activation=tf.nn.relu, input_shape=X_train[0].shape))\n",
        "model.add(tf.keras.layers.Dense(512,activation=tf.nn.relu, input_shape=X_train[0].shape))\n",
        "model.add(tf.keras.layers.Dense(512,activation=tf.nn.relu, input_shape=X_train[0].shape))\n",
        "model.add(tf.keras.layers.Dense(512,activation=tf.nn.relu, input_shape=X_train[0].shape))\n",
        "model.add(tf.keras.layers.Dense(512,activation=tf.nn.relu, input_shape=X_train[0].shape))\n",
        "model.add(tf.keras.layers.Dense(512,activation=tf.nn.relu, input_shape=X_train[0].shape))\n",
        "model.add(tf.keras.layers.Dense(512,activation=tf.nn.relu, input_shape=X_train[0].shape))\n",
        "model.add(tf.keras.layers.Dense(512,activation=tf.nn.relu, input_shape=X_train[0].shape))\n",
        "model.add(tf.keras.layers.Dense(512,activation=tf.nn.relu, input_shape=X_train[0].shape))\n",
        "model.add(tf.keras.layers.Dense(512,activation=tf.nn.relu, input_shape=X_train[0].shape))\n",
        "model.add(tf.keras.layers.Dense(512,activation=tf.nn.relu, input_shape=X_train[0].shape))\n",
        "model.add(tf.keras.layers.Dense(512,activation=tf.nn.relu, input_shape=X_train[0].shape))\n",
        "model.add(tf.keras.layers.Dense(512,activation=tf.nn.relu, input_shape=X_train[0].shape))\n",
        "model.add(tf.keras.layers.Dense(512,activation=tf.nn.relu, input_shape=X_train[0].shape))\n",
        "model.add(tf.keras.layers.Dense(512,activation=tf.nn.relu, input_shape=X_train[0].shape))\n",
        "model.add(tf.keras.layers.Dense(512,activation=tf.nn.relu, input_shape=X_train[0].shape))\n",
        "model.add(tf.keras.layers.Dense(512,activation=tf.nn.relu, input_shape=X_train[0].shape))\n",
        "model.add(tf.keras.layers.Dense(512,activation=tf.nn.relu, input_shape=X_train[0].shape))\n",
        "model.add(tf.keras.layers.Dense(512,activation=tf.nn.relu, input_shape=X_train[0].shape))\n",
        "model.add(tf.keras.layers.Dense(512,activation=tf.nn.relu, input_shape=X_train[0].shape))\n",
        "model.add(tf.keras.layers.Dense(512,activation=tf.nn.relu, input_shape=X_train[0].shape))\n",
        "model.add(tf.keras.layers.Dense(512,activation=tf.nn.relu, input_shape=X_train[0].shape))\n",
        "model.add(tf.keras.layers.Dense(512,activation=tf.nn.relu, input_shape=X_train[0].shape))\n",
        "model.add(tf.keras.layers.Dense(512,activation=tf.nn.relu, input_shape=X_train[0].shape))\n",
        "model.add(tf.keras.layers.Dense(512,activation=tf.nn.relu, input_shape=X_train[0].shape))\n",
        "model.add(tf.keras.layers.Dense(512,activation=tf.nn.relu, input_shape=X_train[0].shape))\n",
        "model.add(tf.keras.layers.Dense(512,activation=tf.nn.relu, input_shape=X_train[0].shape))\n",
        "model.add(tf.keras.layers.Dense(512,activation=tf.nn.relu, input_shape=X_train[0].shape))\n",
        "model.add(tf.keras.layers.Dense(512,activation=tf.nn.relu, input_shape=X_train[0].shape))\n",
        "model.add(tf.keras.layers.Dense(512,activation=tf.nn.relu, input_shape=X_train[0].shape))\n",
        "model.add(tf.keras.layers.Dense(512,activation=tf.nn.relu, input_shape=X_train[0].shape))\n",
        "model.add(tf.keras.layers.Dense(512,activation=tf.nn.relu, input_shape=X_train[0].shape))\n",
        "model.add(tf.keras.layers.Dense(512,activation=tf.nn.relu, input_shape=X_train[0].shape))\n",
        "model.add(tf.keras.layers.Dense(512,activation=tf.nn.relu, input_shape=X_train[0].shape))\n",
        "model.add(tf.keras.layers.Dense(512,activation=tf.nn.relu, input_shape=X_train[0].shape))\n",
        "model.add(tf.keras.layers.Dense(512,activation=tf.nn.relu, input_shape=X_train[0].shape))\n",
        "model.add(tf.keras.layers.Dense(512,activation=tf.nn.relu, input_shape=X_train[0].shape))\n",
        "model.add(tf.keras.layers.Dense(512,activation=tf.nn.relu, input_shape=X_train[0].shape))\n",
        "model.add(tf.keras.layers.Dense(512,activation=tf.nn.relu, input_shape=X_train[0].shape))\n",
        "model.add(tf.keras.layers.Dense(512,activation=tf.nn.relu, input_shape=X_train[0].shape))\n",
        "model.add(tf.keras.layers.Dense(512,activation=tf.nn.relu, input_shape=X_train[0].shape))\n",
        "model.add(tf.keras.layers.Dense(512,activation=tf.nn.relu, input_shape=X_train[0].shape))\n",
        "model.add(tf.keras.layers.Dense(512,activation=tf.nn.relu, input_shape=X_train[0].shape))\n",
        "model.add(tf.keras.layers.Dense(512,activation=tf.nn.relu, input_shape=X_train[0].shape))\n",
        "model.add(tf.keras.layers.Dense(512,activation=tf.nn.relu, input_shape=X_train[0].shape))\n",
        "model.add(tf.keras.layers.Dense(512,activation=tf.nn.relu, input_shape=X_train[0].shape))\n",
        "model.add(tf.keras.layers.Dense(512,activation=tf.nn.relu, input_shape=X_train[0].shape))\n",
        "model.add(tf.keras.layers.Dense(512,activation=tf.nn.relu, input_shape=X_train[0].shape))\n",
        "model.add(tf.keras.layers.Dense(512,activation=tf.nn.relu, input_shape=X_train[0].shape))\n",
        "model.add(tf.keras.layers.Dense(512,activation=tf.nn.relu, input_shape=X_train[0].shape))\n",
        "model.add(tf.keras.layers.Dense(512,activation=tf.nn.relu, input_shape=X_train[0].shape))\n",
        "model.add(tf.keras.layers.Dense(512,activation=tf.nn.relu, input_shape=X_train[0].shape))\n",
        "model.add(tf.keras.layers.Dense(512,activation=tf.nn.relu, input_shape=X_train[0].shape))\n",
        "model.add(tf.keras.layers.Dense(512,activation=tf.nn.relu, input_shape=X_train[0].shape))\n",
        "model.add(tf.keras.layers.Dense(512,activation=tf.nn.relu, input_shape=X_train[0].shape))\n",
        "model.add(tf.keras.layers.Dense(512,activation=tf.nn.relu, input_shape=X_train[0].shape))\n",
        "model.add(tf.keras.layers.Dense(512,activation=tf.nn.relu, input_shape=X_train[0].shape))\n",
        "model.add(tf.keras.layers.Dense(512,activation=tf.nn.relu, input_shape=X_train[0].shape))\n",
        "model.add(tf.keras.layers.Dense(512,activation=tf.nn.relu, input_shape=X_train[0].shape))\n",
        "model.add(tf.keras.layers.Dense(512,activation=tf.nn.relu, input_shape=X_train[0].shape))\n",
        "model.add(tf.keras.layers.Dense(10,activation=tf.nn.softmax))\n",
        "model.compile(loss='sparse_categorical_crossentropy',\n",
        "              optimizer = 'rmsprop',\n",
        "              metrics = ['accuracy'])\n",
        "\n",
        "model.summary()"
      ],
      "execution_count": 16,
      "outputs": [
        {
          "output_type": "stream",
          "text": [
            "_________________________________________________________________\n",
            "Layer (type)                 Output Shape              Param #   \n",
            "=================================================================\n",
            "dense_13 (Dense)             (None, 512)               1024512   \n",
            "_________________________________________________________________\n",
            "dense_14 (Dense)             (None, 512)               262656    \n",
            "_________________________________________________________________\n",
            "dense_15 (Dense)             (None, 512)               262656    \n",
            "_________________________________________________________________\n",
            "dense_16 (Dense)             (None, 512)               262656    \n",
            "_________________________________________________________________\n",
            "dense_17 (Dense)             (None, 512)               262656    \n",
            "_________________________________________________________________\n",
            "dense_18 (Dense)             (None, 512)               262656    \n",
            "_________________________________________________________________\n",
            "dense_19 (Dense)             (None, 512)               262656    \n",
            "_________________________________________________________________\n",
            "dense_20 (Dense)             (None, 512)               262656    \n",
            "_________________________________________________________________\n",
            "dense_21 (Dense)             (None, 512)               262656    \n",
            "_________________________________________________________________\n",
            "dense_22 (Dense)             (None, 512)               262656    \n",
            "_________________________________________________________________\n",
            "dense_23 (Dense)             (None, 512)               262656    \n",
            "_________________________________________________________________\n",
            "dense_24 (Dense)             (None, 512)               262656    \n",
            "_________________________________________________________________\n",
            "dense_25 (Dense)             (None, 512)               262656    \n",
            "_________________________________________________________________\n",
            "dense_26 (Dense)             (None, 512)               262656    \n",
            "_________________________________________________________________\n",
            "dense_27 (Dense)             (None, 512)               262656    \n",
            "_________________________________________________________________\n",
            "dense_28 (Dense)             (None, 512)               262656    \n",
            "_________________________________________________________________\n",
            "dense_29 (Dense)             (None, 512)               262656    \n",
            "_________________________________________________________________\n",
            "dense_30 (Dense)             (None, 512)               262656    \n",
            "_________________________________________________________________\n",
            "dense_31 (Dense)             (None, 512)               262656    \n",
            "_________________________________________________________________\n",
            "dense_32 (Dense)             (None, 512)               262656    \n",
            "_________________________________________________________________\n",
            "dense_33 (Dense)             (None, 512)               262656    \n",
            "_________________________________________________________________\n",
            "dense_34 (Dense)             (None, 512)               262656    \n",
            "_________________________________________________________________\n",
            "dense_35 (Dense)             (None, 512)               262656    \n",
            "_________________________________________________________________\n",
            "dense_36 (Dense)             (None, 512)               262656    \n",
            "_________________________________________________________________\n",
            "dense_37 (Dense)             (None, 512)               262656    \n",
            "_________________________________________________________________\n",
            "dense_38 (Dense)             (None, 512)               262656    \n",
            "_________________________________________________________________\n",
            "dense_39 (Dense)             (None, 512)               262656    \n",
            "_________________________________________________________________\n",
            "dense_40 (Dense)             (None, 512)               262656    \n",
            "_________________________________________________________________\n",
            "dense_41 (Dense)             (None, 512)               262656    \n",
            "_________________________________________________________________\n",
            "dense_42 (Dense)             (None, 512)               262656    \n",
            "_________________________________________________________________\n",
            "dense_43 (Dense)             (None, 512)               262656    \n",
            "_________________________________________________________________\n",
            "dense_44 (Dense)             (None, 512)               262656    \n",
            "_________________________________________________________________\n",
            "dense_45 (Dense)             (None, 512)               262656    \n",
            "_________________________________________________________________\n",
            "dense_46 (Dense)             (None, 512)               262656    \n",
            "_________________________________________________________________\n",
            "dense_47 (Dense)             (None, 512)               262656    \n",
            "_________________________________________________________________\n",
            "dense_48 (Dense)             (None, 512)               262656    \n",
            "_________________________________________________________________\n",
            "dense_49 (Dense)             (None, 512)               262656    \n",
            "_________________________________________________________________\n",
            "dense_50 (Dense)             (None, 512)               262656    \n",
            "_________________________________________________________________\n",
            "dense_51 (Dense)             (None, 512)               262656    \n",
            "_________________________________________________________________\n",
            "dense_52 (Dense)             (None, 512)               262656    \n",
            "_________________________________________________________________\n",
            "dense_53 (Dense)             (None, 512)               262656    \n",
            "_________________________________________________________________\n",
            "dense_54 (Dense)             (None, 512)               262656    \n",
            "_________________________________________________________________\n",
            "dense_55 (Dense)             (None, 512)               262656    \n",
            "_________________________________________________________________\n",
            "dense_56 (Dense)             (None, 512)               262656    \n",
            "_________________________________________________________________\n",
            "dense_57 (Dense)             (None, 512)               262656    \n",
            "_________________________________________________________________\n",
            "dense_58 (Dense)             (None, 512)               262656    \n",
            "_________________________________________________________________\n",
            "dense_59 (Dense)             (None, 512)               262656    \n",
            "_________________________________________________________________\n",
            "dense_60 (Dense)             (None, 512)               262656    \n",
            "_________________________________________________________________\n",
            "dense_61 (Dense)             (None, 512)               262656    \n",
            "_________________________________________________________________\n",
            "dense_62 (Dense)             (None, 512)               262656    \n",
            "_________________________________________________________________\n",
            "dense_63 (Dense)             (None, 512)               262656    \n",
            "_________________________________________________________________\n",
            "dense_64 (Dense)             (None, 512)               262656    \n",
            "_________________________________________________________________\n",
            "dense_65 (Dense)             (None, 512)               262656    \n",
            "_________________________________________________________________\n",
            "dense_66 (Dense)             (None, 512)               262656    \n",
            "_________________________________________________________________\n",
            "dense_67 (Dense)             (None, 512)               262656    \n",
            "_________________________________________________________________\n",
            "dense_68 (Dense)             (None, 512)               262656    \n",
            "_________________________________________________________________\n",
            "dense_69 (Dense)             (None, 512)               262656    \n",
            "_________________________________________________________________\n",
            "dense_70 (Dense)             (None, 512)               262656    \n",
            "_________________________________________________________________\n",
            "dense_71 (Dense)             (None, 512)               262656    \n",
            "_________________________________________________________________\n",
            "dense_72 (Dense)             (None, 512)               262656    \n",
            "_________________________________________________________________\n",
            "dense_73 (Dense)             (None, 512)               262656    \n",
            "_________________________________________________________________\n",
            "dense_74 (Dense)             (None, 512)               262656    \n",
            "_________________________________________________________________\n",
            "dense_75 (Dense)             (None, 512)               262656    \n",
            "_________________________________________________________________\n",
            "dense_76 (Dense)             (None, 10)                5130      \n",
            "=================================================================\n",
            "Total params: 17,314,314\n",
            "Trainable params: 17,314,314\n",
            "Non-trainable params: 0\n",
            "_________________________________________________________________\n"
          ],
          "name": "stdout"
        }
      ]
    },
    {
      "metadata": {
        "id": "0eNUnAweNtnc",
        "colab_type": "text"
      },
      "cell_type": "markdown",
      "source": [
        "## Training\n",
        "\n",
        "Next, we will train the model by using the [fit method](https://www.tensorflow.org/api_docs/python/tf/keras/Sequential#fit) for 10 [epochs](https://www.quora.com/What-is-epochs-in-machine-learning). We will keep track of the training loss and accuracy as we go. Please be patient as this step may take a while depending on your hardware."
      ]
    },
    {
      "metadata": {
        "id": "W5YJMXeKHseP",
        "colab_type": "code",
        "colab": {
          "base_uri": "https://localhost:8080/",
          "height": 3794
        },
        "outputId": "424dda2e-03db-4df4-edad-b9fccb40a234"
      },
      "cell_type": "code",
      "source": [
        "history = model.fit(X_train_df, y_train, epochs=100)\n",
        "\n",
        "# plot metrics\n",
        "plt.plot(history.history['acc'])\n",
        "plt.show()"
      ],
      "execution_count": 18,
      "outputs": [
        {
          "output_type": "stream",
          "text": [
            "Epoch 1/100\n",
            "1125/1125 [==============================] - 2s 1ms/step - loss: 2.3033 - acc: 0.0924\n",
            "Epoch 2/100\n",
            "1125/1125 [==============================] - 2s 1ms/step - loss: 2.3028 - acc: 0.1058\n",
            "Epoch 3/100\n",
            "1125/1125 [==============================] - 2s 1ms/step - loss: 2.3028 - acc: 0.1058\n",
            "Epoch 4/100\n",
            "1125/1125 [==============================] - 2s 1ms/step - loss: 2.3027 - acc: 0.1058\n",
            "Epoch 5/100\n",
            "1125/1125 [==============================] - 2s 1ms/step - loss: 2.3026 - acc: 0.1058\n",
            "Epoch 6/100\n",
            "1125/1125 [==============================] - 2s 1ms/step - loss: 2.3025 - acc: 0.1058\n",
            "Epoch 7/100\n",
            "1125/1125 [==============================] - 2s 1ms/step - loss: 2.3026 - acc: 0.1058\n",
            "Epoch 8/100\n",
            "1125/1125 [==============================] - 2s 1ms/step - loss: 2.3026 - acc: 0.1058\n",
            "Epoch 9/100\n",
            "1125/1125 [==============================] - 2s 1ms/step - loss: 2.3024 - acc: 0.1058\n",
            "Epoch 10/100\n",
            " 928/1125 [=======================>......] - ETA: 0s - loss: 2.3023 - acc: 0.1067"
          ],
          "name": "stdout"
        },
        {
          "output_type": "stream",
          "text": [
            "1125/1125 [==============================] - 2s 1ms/step - loss: 2.3026 - acc: 0.1058\n",
            "Epoch 11/100\n",
            "1125/1125 [==============================] - 2s 1ms/step - loss: 2.3025 - acc: 0.1058\n",
            "Epoch 12/100\n",
            "1125/1125 [==============================] - 2s 1ms/step - loss: 2.3025 - acc: 0.1058\n",
            "Epoch 13/100\n",
            "1125/1125 [==============================] - 2s 1ms/step - loss: 2.3025 - acc: 0.1058\n",
            "Epoch 14/100\n",
            "1125/1125 [==============================] - 2s 1ms/step - loss: 2.3025 - acc: 0.1058\n",
            "Epoch 15/100\n",
            "1125/1125 [==============================] - 2s 1ms/step - loss: 2.3024 - acc: 0.1058\n",
            "Epoch 16/100\n",
            "1125/1125 [==============================] - 2s 1ms/step - loss: 2.3024 - acc: 0.1058\n",
            "Epoch 17/100\n",
            "1125/1125 [==============================] - 2s 1ms/step - loss: 2.3024 - acc: 0.1058\n",
            "Epoch 18/100\n",
            "1125/1125 [==============================] - 2s 1ms/step - loss: 2.3024 - acc: 0.1058\n",
            "Epoch 19/100\n",
            "1024/1125 [==========================>...] - ETA: 0s - loss: 2.3026 - acc: 0.1025"
          ],
          "name": "stdout"
        },
        {
          "output_type": "stream",
          "text": [
            "1125/1125 [==============================] - 2s 1ms/step - loss: 2.3024 - acc: 0.1058\n",
            "Epoch 20/100\n",
            "1125/1125 [==============================] - 2s 1ms/step - loss: 2.3023 - acc: 0.1058\n",
            "Epoch 21/100\n",
            "1125/1125 [==============================] - 2s 1ms/step - loss: 2.3023 - acc: 0.1058\n",
            "Epoch 22/100\n",
            "1125/1125 [==============================] - 2s 1ms/step - loss: 2.3024 - acc: 0.1058\n",
            "Epoch 23/100\n",
            "1125/1125 [==============================] - 2s 1ms/step - loss: 2.3023 - acc: 0.1058\n",
            "Epoch 24/100\n",
            "1125/1125 [==============================] - 2s 1ms/step - loss: 2.3023 - acc: 0.1058\n",
            "Epoch 25/100\n",
            "1125/1125 [==============================] - 2s 1ms/step - loss: 2.3023 - acc: 0.1058\n",
            "Epoch 26/100\n",
            "1125/1125 [==============================] - 2s 1ms/step - loss: 2.3023 - acc: 0.1058\n",
            "Epoch 27/100\n",
            "1125/1125 [==============================] - 2s 1ms/step - loss: 2.3023 - acc: 0.1058\n",
            "Epoch 28/100\n",
            "1120/1125 [============================>.] - ETA: 0s - loss: 2.3025 - acc: 0.1045"
          ],
          "name": "stdout"
        },
        {
          "output_type": "stream",
          "text": [
            "1125/1125 [==============================] - 2s 1ms/step - loss: 2.3023 - acc: 0.1058\n",
            "Epoch 29/100\n",
            "1125/1125 [==============================] - 2s 1ms/step - loss: 2.3023 - acc: 0.1058\n",
            "Epoch 30/100\n",
            "1125/1125 [==============================] - 2s 1ms/step - loss: 2.3022 - acc: 0.1058\n",
            "Epoch 31/100\n",
            "1125/1125 [==============================] - 2s 1ms/step - loss: 2.3023 - acc: 0.1058\n",
            "Epoch 32/100\n",
            "1125/1125 [==============================] - 2s 1ms/step - loss: 2.3024 - acc: 0.1058\n",
            "Epoch 33/100\n",
            "1125/1125 [==============================] - 2s 1ms/step - loss: 2.3023 - acc: 0.1058\n",
            "Epoch 34/100\n",
            "1125/1125 [==============================] - 2s 1ms/step - loss: 2.3023 - acc: 0.1058\n",
            "Epoch 35/100\n",
            "1125/1125 [==============================] - 2s 1ms/step - loss: 2.3023 - acc: 0.1058\n",
            "Epoch 36/100\n",
            "1125/1125 [==============================] - 2s 1ms/step - loss: 2.3023 - acc: 0.1058\n",
            "Epoch 37/100\n",
            "1125/1125 [==============================] - 2s 1ms/step - loss: 2.3023 - acc: 0.1058\n"
          ],
          "name": "stdout"
        },
        {
          "output_type": "stream",
          "text": [
            "Epoch 38/100\n",
            "1125/1125 [==============================] - 2s 1ms/step - loss: 2.3023 - acc: 0.1058\n",
            "Epoch 39/100\n",
            "1125/1125 [==============================] - 2s 1ms/step - loss: 2.3023 - acc: 0.1058\n",
            "Epoch 40/100\n",
            "1125/1125 [==============================] - 2s 1ms/step - loss: 2.3023 - acc: 0.1058\n",
            "Epoch 41/100\n",
            "1125/1125 [==============================] - 2s 1ms/step - loss: 2.3023 - acc: 0.1058\n",
            "Epoch 42/100\n",
            "1125/1125 [==============================] - 2s 1ms/step - loss: 2.3023 - acc: 0.1058\n",
            "Epoch 43/100\n",
            "1125/1125 [==============================] - 2s 1ms/step - loss: 2.3023 - acc: 0.1058\n",
            "Epoch 44/100\n",
            "1125/1125 [==============================] - 2s 1ms/step - loss: 2.3023 - acc: 0.1058\n",
            "Epoch 45/100\n",
            "1125/1125 [==============================] - 2s 1ms/step - loss: 2.3023 - acc: 0.1058\n",
            "Epoch 46/100\n",
            "1125/1125 [==============================] - 2s 1ms/step - loss: 2.3023 - acc: 0.1058\n",
            "Epoch 47/100\n",
            " 928/1125 [=======================>......] - ETA: 0s - loss: 2.3019 - acc: 0.1067"
          ],
          "name": "stdout"
        },
        {
          "output_type": "stream",
          "text": [
            "1125/1125 [==============================] - 2s 1ms/step - loss: 2.3023 - acc: 0.1058\n",
            "Epoch 48/100\n",
            "1125/1125 [==============================] - 2s 1ms/step - loss: 2.3022 - acc: 0.1058\n",
            "Epoch 49/100\n",
            "1125/1125 [==============================] - 2s 1ms/step - loss: 2.3023 - acc: 0.1058\n",
            "Epoch 50/100\n",
            "1125/1125 [==============================] - 2s 1ms/step - loss: 2.3023 - acc: 0.1058\n",
            "Epoch 51/100\n",
            "1125/1125 [==============================] - 2s 1ms/step - loss: 2.3022 - acc: 0.1058\n",
            "Epoch 52/100\n",
            "1125/1125 [==============================] - 2s 1ms/step - loss: 2.3023 - acc: 0.1058\n",
            "Epoch 53/100\n",
            "1125/1125 [==============================] - 2s 1ms/step - loss: 2.3022 - acc: 0.1058\n",
            "Epoch 54/100\n",
            "1125/1125 [==============================] - 2s 1ms/step - loss: 2.3022 - acc: 0.1058\n",
            "Epoch 55/100\n",
            "1125/1125 [==============================] - 2s 1ms/step - loss: 2.3022 - acc: 0.1058\n",
            "Epoch 56/100\n",
            "1024/1125 [==========================>...] - ETA: 0s - loss: 2.3022 - acc: 0.1006"
          ],
          "name": "stdout"
        },
        {
          "output_type": "stream",
          "text": [
            "1125/1125 [==============================] - 2s 1ms/step - loss: 2.3022 - acc: 0.1058\n",
            "Epoch 57/100\n",
            "1125/1125 [==============================] - 2s 1ms/step - loss: 2.3023 - acc: 0.1058\n",
            "Epoch 58/100\n",
            "1125/1125 [==============================] - 2s 1ms/step - loss: 2.3022 - acc: 0.1058\n",
            "Epoch 59/100\n",
            "1125/1125 [==============================] - 2s 1ms/step - loss: 2.3022 - acc: 0.1058\n",
            "Epoch 60/100\n",
            "1125/1125 [==============================] - 2s 1ms/step - loss: 2.3022 - acc: 0.1058\n",
            "Epoch 61/100\n",
            "1125/1125 [==============================] - 2s 1ms/step - loss: 2.3023 - acc: 0.1058\n",
            "Epoch 62/100\n",
            "1125/1125 [==============================] - 2s 1ms/step - loss: 2.3022 - acc: 0.1058\n",
            "Epoch 63/100\n",
            "1125/1125 [==============================] - 2s 1ms/step - loss: 2.3022 - acc: 0.1058\n",
            "Epoch 64/100\n",
            "1125/1125 [==============================] - 2s 1ms/step - loss: 2.3022 - acc: 0.1058\n",
            "Epoch 65/100\n",
            "1125/1125 [==============================] - 2s 1ms/step - loss: 2.3023 - acc: 0.1058\n"
          ],
          "name": "stdout"
        },
        {
          "output_type": "stream",
          "text": [
            "Epoch 66/100\n",
            "1125/1125 [==============================] - 2s 1ms/step - loss: 2.3022 - acc: 0.1058\n",
            "Epoch 67/100\n",
            "1125/1125 [==============================] - 2s 1ms/step - loss: 2.3022 - acc: 0.1058\n",
            "Epoch 68/100\n",
            "1125/1125 [==============================] - 2s 1ms/step - loss: 2.3022 - acc: 0.1058\n",
            "Epoch 69/100\n",
            "1125/1125 [==============================] - 2s 1ms/step - loss: 2.3023 - acc: 0.1058\n",
            "Epoch 70/100\n",
            "1125/1125 [==============================] - 2s 1ms/step - loss: 2.3022 - acc: 0.1058\n",
            "Epoch 71/100\n",
            "1125/1125 [==============================] - 2s 1ms/step - loss: 2.3022 - acc: 0.1058\n",
            "Epoch 72/100\n",
            "1125/1125 [==============================] - 2s 1ms/step - loss: 2.3022 - acc: 0.1058\n",
            "Epoch 73/100\n",
            "1125/1125 [==============================] - 2s 1ms/step - loss: 2.3022 - acc: 0.1058\n",
            "Epoch 74/100\n",
            "1125/1125 [==============================] - 2s 1ms/step - loss: 2.3022 - acc: 0.1058\n",
            "Epoch 75/100\n",
            " 896/1125 [======================>.......] - ETA: 0s - loss: 2.3017 - acc: 0.1060"
          ],
          "name": "stdout"
        },
        {
          "output_type": "stream",
          "text": [
            "1125/1125 [==============================] - 2s 1ms/step - loss: 2.3022 - acc: 0.1058\n",
            "Epoch 76/100\n",
            "1125/1125 [==============================] - 2s 1ms/step - loss: 2.3022 - acc: 0.1058\n",
            "Epoch 77/100\n",
            "1125/1125 [==============================] - 2s 1ms/step - loss: 2.3022 - acc: 0.1058\n",
            "Epoch 78/100\n",
            "1125/1125 [==============================] - 2s 1ms/step - loss: 2.3022 - acc: 0.1058\n",
            "Epoch 79/100\n",
            "1125/1125 [==============================] - 2s 1ms/step - loss: 2.3022 - acc: 0.1058\n",
            "Epoch 80/100\n",
            "1125/1125 [==============================] - 2s 1ms/step - loss: 2.3022 - acc: 0.1058\n",
            "Epoch 81/100\n",
            "1125/1125 [==============================] - 2s 1ms/step - loss: 2.3022 - acc: 0.1058\n",
            "Epoch 82/100\n",
            "1125/1125 [==============================] - 2s 1ms/step - loss: 2.3023 - acc: 0.1058\n",
            "Epoch 83/100\n",
            "1125/1125 [==============================] - 2s 1ms/step - loss: 2.3023 - acc: 0.1058\n",
            "Epoch 84/100\n",
            "1120/1125 [============================>.] - ETA: 0s - loss: 2.3022 - acc: 0.1062"
          ],
          "name": "stdout"
        },
        {
          "output_type": "stream",
          "text": [
            "1125/1125 [==============================] - 2s 1ms/step - loss: 2.3022 - acc: 0.1058\n",
            "Epoch 85/100\n",
            "1125/1125 [==============================] - 2s 1ms/step - loss: 2.3022 - acc: 0.1058\n",
            "Epoch 86/100\n",
            "1125/1125 [==============================] - 2s 1ms/step - loss: 2.3022 - acc: 0.1058\n",
            "Epoch 87/100\n",
            "1125/1125 [==============================] - 2s 1ms/step - loss: 2.3022 - acc: 0.1058\n",
            "Epoch 88/100\n",
            "1125/1125 [==============================] - 2s 1ms/step - loss: 2.3022 - acc: 0.1058\n",
            "Epoch 89/100\n",
            "1125/1125 [==============================] - 2s 1ms/step - loss: 2.3022 - acc: 0.1058\n",
            "Epoch 90/100\n",
            "1125/1125 [==============================] - 2s 1ms/step - loss: 2.3022 - acc: 0.1058\n",
            "Epoch 91/100\n",
            "1125/1125 [==============================] - 2s 1ms/step - loss: 2.3022 - acc: 0.1058\n",
            "Epoch 92/100\n",
            "1125/1125 [==============================] - 2s 1ms/step - loss: 2.3022 - acc: 0.1058\n",
            "Epoch 93/100\n",
            "1125/1125 [==============================] - 2s 1ms/step - loss: 2.3022 - acc: 0.1058\n",
            "Epoch 94/100\n",
            "  32/1125 [..............................] - ETA: 1s - loss: 2.2906 - acc: 0.1562"
          ],
          "name": "stdout"
        },
        {
          "output_type": "stream",
          "text": [
            "1125/1125 [==============================] - 2s 1ms/step - loss: 2.3022 - acc: 0.1058\n",
            "Epoch 95/100\n",
            "1125/1125 [==============================] - 2s 1ms/step - loss: 2.3022 - acc: 0.1058\n",
            "Epoch 96/100\n",
            "1125/1125 [==============================] - 2s 1ms/step - loss: 2.3022 - acc: 0.1058\n",
            "Epoch 97/100\n",
            "1125/1125 [==============================] - 2s 1ms/step - loss: 2.3022 - acc: 0.1058\n",
            "Epoch 98/100\n",
            "1125/1125 [==============================] - 2s 1ms/step - loss: 2.3022 - acc: 0.1058\n",
            "Epoch 99/100\n",
            "1125/1125 [==============================] - 2s 1ms/step - loss: 2.3022 - acc: 0.1058\n",
            "Epoch 100/100\n",
            "1125/1125 [==============================] - 2s 1ms/step - loss: 2.3022 - acc: 0.1058\n"
          ],
          "name": "stdout"
        },
        {
          "output_type": "display_data",
          "data": {
            "image/png": "[encoded data removed]",
            "text/plain": [
              "<matplotlib.figure.Figure at 0x7f5d65ba9438>"
            ]
          },
          "metadata": {
            "tags": []
          }
        }
      ]
    },
    {
      "metadata": {
        "id": "SxkMOdLrT-2V",
        "colab_type": "text"
      },
      "cell_type": "markdown",
      "source": [
        "## Testing\n",
        "Now that we have trained our model, we want to evaluate it. The training accuracy wasn't great (~35%, depending on the random seed), but better than random (10%).  Let's see how well we do on our test data."
      ]
    },
    {
      "metadata": {
        "id": "86h3mYf5T_Bh",
        "colab_type": "code",
        "colab": {
          "base_uri": "https://localhost:8080/",
          "height": 51
        },
        "outputId": "fd749867-5324-452d-f052-54fc3619ecbb"
      },
      "cell_type": "code",
      "source": [
        "loss, accuracy = model.evaluate(X_test_df, y_test)\n",
        "print('Test accuracy: %.2f' % (accuracy))"
      ],
      "execution_count": 19,
      "outputs": [
        {
          "output_type": "stream",
          "text": [
            "375/375 [==============================] - 0s 893us/step\n",
            "Test accuracy: 0.08\n"
          ],
          "name": "stdout"
        }
      ]
    },
    {
      "metadata": {
        "id": "J6d-b_SrHsl2",
        "colab_type": "code",
        "colab": {
          "base_uri": "https://localhost:8080/",
          "height": 34
        },
        "outputId": "8fa008f0-9f3d-43cc-c7f5-85b88496c5d2"
      },
      "cell_type": "code",
      "source": [
        "y_pred = model.predict_proba(X_test_df, verbose=1)\n",
        "\n",
        "ix_pred = [np.argmax(y) for y in y_pred]\n",
        "ix_true = [np.argmax(y) for y in y_test]"
      ],
      "execution_count": 20,
      "outputs": [
        {
          "output_type": "stream",
          "text": [
            "375/375 [==============================] - 0s 857us/step\n"
          ],
          "name": "stdout"
        }
      ]
    },
    {
      "metadata": {
        "id": "I0iiseNLWyBc",
        "colab_type": "code",
        "colab": {}
      },
      "cell_type": "code",
      "source": [
        "# Visualize the confusion matrix\n",
        "def plot_cmatrix(cm,labels,title='Confusion Matrix'):\n",
        "  fig = plt.figure()\n",
        "  ax = fig.add_subplot(111)\n",
        "  cax = ax.matshow(cm,cmap='Reds')\n",
        "  plt.title('\\n'+title+'\\n', fontsize=20)\n",
        "  fig.colorbar(cax)\n",
        "  ax.set_xticks(range(len(labels)))\n",
        "  ax.set_yticks(range(len(labels)))\n",
        "  ax.set_xticklabels(labels, fontsize=16)\n",
        "  ax.set_yticklabels(labels, fontsize=16)\n",
        "  plt.xlabel('Predicted', fontsize=16)\n",
        "  plt.ylabel('True', fontsize=16)\n",
        "  plt.show()"
      ],
      "execution_count": 0,
      "outputs": []
    },
    {
      "metadata": {
        "id": "ViciIqK4Xz9t",
        "colab_type": "code",
        "colab": {
          "base_uri": "https://localhost:8080/",
          "height": 457
        },
        "outputId": "56892b5b-a6af-47a2-80bd-48908899e3a5"
      },
      "cell_type": "code",
      "source": [
        "cm = metrics.confusion_matrix(ix_true,ix_pred, range(10))\n",
        "plot_cmatrix(cm, range(10))"
      ],
      "execution_count": 22,
      "outputs": [
        {
          "output_type": "display_data",
          "data": {
            "image/png": "[encoded data removed]",
            "text/plain": [
              "<matplotlib.figure.Figure at 0x7f5d68e6cef0>"
            ]
          },
          "metadata": {
            "tags": []
          }
        }
      ]
    },
    {
      "metadata": {
        "id": "hN0uqYX6ZmH7",
        "colab_type": "text"
      },
      "cell_type": "markdown",
      "source": [
        "### Conclusions\n",
        "As you can see, this is actually a pretty terrible classifier... \n",
        "* Play around with some of the model parameters to see if you can make it better.  Later we'll see how we can use convolutions to solve a similar problem!\n",
        "* Try to see if you can train a better classifier using the frequency spectrum instead of the raw signal.  You won't have to pad/truncate the data because the data should all be the same size in the frequency domain (assuming they are all sampled at the same rate, which they are)!"
      ]
    },
    {
      "metadata": {
        "id": "Hm8YdwHuZwPj",
        "colab_type": "code",
        "colab": {}
      },
      "cell_type": "code",
      "source": [
        ""
      ],
      "execution_count": 0,
      "outputs": []
    }
  ]
}